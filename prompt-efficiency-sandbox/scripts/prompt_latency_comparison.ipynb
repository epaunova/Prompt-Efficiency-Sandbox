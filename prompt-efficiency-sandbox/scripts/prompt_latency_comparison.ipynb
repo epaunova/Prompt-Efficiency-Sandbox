{
 "cells": [
  {
   "cell_type": "markdown",
   "id": "fa290be2",
   "metadata": {},
   "source": [
    "# Prompt Efficiency Comparison\n",
    "\n",
    "This notebook compares different prompt engineering strategies on latency, token usage, and output quality."
   ]
  },
  {
   "cell_type": "code",
   "execution_count": null,
   "id": "66498f93",
   "metadata": {},
   "outputs": [],
   "source": [
    "import time\n",
    "import pandas as pd\n",
    "import random\n",
    "\n",
    "prompts = {\n",
    "    'simple': \"Summarize the French Revolution.\",\n",
    "    'instructive': \"Please provide a concise and well-structured summary of the key events and consequences of the French Revolution in under 100 words.\",\n",
    "    'chain_of_thought': \"Let's think step by step. First, outline the causes of the French Revolution. Then describe key events, and finally summarize its outcomes.\"\n",
    "}\n",
    "\n",
    "results = []\n",
    "\n",
    "for style, prompt in prompts.items():\n",
    "    start = time.time()\n",
    "    time.sleep(random.uniform(0.5, 1.5))  # simulate latency\n",
    "    latency = time.time() - start\n",
    "    tokens = random.randint(80, 160)  # simulate token count\n",
    "    quality = random.uniform(0.6, 1.0)  # simulate quality score\n",
    "\n",
    "    results.append({\n",
    "        'Prompt Style': style,\n",
    "        'Latency (s)': round(latency, 2),\n",
    "        'Tokens Used': tokens,\n",
    "        'Output Quality': round(quality, 2)\n",
    "    })\n",
    "\n",
    "results_df = pd.DataFrame(results)\n",
    "results_df"
   ]
  },
  {
   "cell_type": "code",
   "execution_count": null,
   "id": "2707a573",
   "metadata": {},
   "outputs": [],
   "source": [
    "import matplotlib.pyplot as plt\n",
    "\n",
    "metrics = ['Latency (s)', 'Tokens Used', 'Output Quality']\n",
    "\n",
    "for metric in metrics:\n",
    "    results_df.plot(kind='bar', x='Prompt Style', y=metric, title=metric, legend=False)\n",
    "    plt.ylabel(metric)\n",
    "    plt.tight_layout()\n",
    "    plt.show()"
   ]
  }
 ],
 "metadata": {},
 "nbformat": 4,
 "nbformat_minor": 5
}
